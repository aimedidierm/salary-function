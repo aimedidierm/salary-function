{
 "cells": [
  {
   "cell_type": "code",
   "execution_count": 10,
   "id": "c3fdef2a-0890-42cd-96ab-d67ee948b341",
   "metadata": {},
   "outputs": [],
   "source": [
    "import pandas as pd\n",
    "import os\n",
    "import zipfile"
   ]
  },
  {
   "cell_type": "code",
   "execution_count": 12,
   "id": "70c3ed83-61dc-436b-b547-40e681978d89",
   "metadata": {},
   "outputs": [],
   "source": [
    "salary_data = pd.read_csv('Total.csv', low_memory=False)"
   ]
  },
  {
   "cell_type": "code",
   "execution_count": 14,
   "id": "b4c2ac37-5965-41aa-bc21-0fe992ca1545",
   "metadata": {},
   "outputs": [],
   "source": [
    "def get_employee_details(name):\n",
    "    employee = salary_data[salary_data['EmployeeName'] == name]\n",
    "    return employee.to_dict(orient='records')"
   ]
  },
  {
   "cell_type": "code",
   "execution_count": 20,
   "id": "772c0ecf-4d4a-47c2-be6a-eeaacb812919",
   "metadata": {},
   "outputs": [],
   "source": [
    "salary_data = salary_data.drop_duplicates(subset='EmployeeName')\n",
    "salary_dict = salary_data.set_index('EmployeeName').T.to_dict('list')\n"
   ]
  },
  {
   "cell_type": "code",
   "execution_count": 22,
   "id": "da503f28-f180-41a7-9d1a-fb73b81cca78",
   "metadata": {},
   "outputs": [],
   "source": [
    "try:\n",
    "    # Example of a function call or data processing\n",
    "    details = get_employee_details('John Doe')\n",
    "except Exception as e:\n",
    "    print(f\"Error: {e}\")"
   ]
  },
  {
   "cell_type": "code",
   "execution_count": 32,
   "id": "25606ee3-2522-488f-8512-c333165faea5",
   "metadata": {},
   "outputs": [],
   "source": [
    "def export_employee_details(name):\n",
    "    details = get_employee_details(name)\n",
    "    df = pd.DataFrame(details)\n",
    "    file_name = f'{name}_details.csv'\n",
    "    df.to_csv(file_name, index=False)\n",
    "    \n",
    "    with zipfile.ZipFile('Employee_Profile.zip', 'w') as zipf:\n",
    "        zipf.write(file_name)\n",
    "        os.remove(file_name)"
   ]
  },
  {
   "cell_type": "code",
   "execution_count": null,
   "id": "3ca456e0-dc4d-4de4-a074-59d9befef23f",
   "metadata": {},
   "outputs": [],
   "source": []
  }
 ],
 "metadata": {
  "kernelspec": {
   "display_name": "Python 3 (ipykernel)",
   "language": "python",
   "name": "python3"
  },
  "language_info": {
   "codemirror_mode": {
    "name": "ipython",
    "version": 3
   },
   "file_extension": ".py",
   "mimetype": "text/x-python",
   "name": "python",
   "nbconvert_exporter": "python",
   "pygments_lexer": "ipython3",
   "version": "3.12.4"
  }
 },
 "nbformat": 4,
 "nbformat_minor": 5
}
